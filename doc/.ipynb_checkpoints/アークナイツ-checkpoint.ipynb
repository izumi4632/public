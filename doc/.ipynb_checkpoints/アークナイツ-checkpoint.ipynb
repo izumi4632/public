{
 "cells": [
  {
   "cell_type": "markdown",
   "metadata": {},
   "source": [
    "# なにこれ？\n",
    "\n",
    "アークナイツの各キャラのステータスのみで殴り合ったらどっちが勝つか判定するコードです  \n",
    "信頼度ボーナスは考慮しますが素質とスキルは考慮していません  "
   ]
  },
  {
   "cell_type": "code",
   "execution_count": 1,
   "metadata": {
    "ExecuteTime": {
     "end_time": "2020-08-18T18:12:00.800000+09:00",
     "start_time": "2020-08-18T09:11:49.011Z"
    }
   },
   "outputs": [
    {
     "data": {
      "text/plain": [
       "Plots.GRBackend()"
      ]
     },
     "execution_count": 1,
     "metadata": {},
     "output_type": "execute_result"
    }
   ],
   "source": [
    "using Plots\n",
    "gr()"
   ]
  },
  {
   "cell_type": "code",
   "execution_count": 2,
   "metadata": {
    "ExecuteTime": {
     "end_time": "2020-08-18T18:12:03.674000+09:00",
     "start_time": "2020-08-18T09:12:02.013Z"
    }
   },
   "outputs": [
    {
     "data": {
      "text/plain": [
       "Main.ark.character(\"beehunter\", 2135, 548, 0.78, false, 312, 0)"
      ]
     },
     "execution_count": 2,
     "metadata": {},
     "output_type": "execute_result"
    }
   ],
   "source": [
    "module ark\n",
    "mutable struct character\n",
    "    name::String\n",
    "    hp::Int64\n",
    "    atk::Int64\n",
    "    aps::Float64\n",
    "    ismagic::Bool\n",
    "    def::Int64\n",
    "    res::Int64\n",
    "end\n",
    "end\n",
    "skadi=ark.character(\"skadi\",3665,1013,1.5,false,303,0)\n",
    "beehunter=ark.character(\"beehunter\",2135,548,0.78,false,312,0)"
   ]
  },
  {
   "cell_type": "code",
   "execution_count": 3,
   "metadata": {
    "ExecuteTime": {
     "end_time": "2020-08-18T18:12:05.098000+09:00",
     "start_time": "2020-08-18T09:12:04.863Z"
    }
   },
   "outputs": [
    {
     "data": {
      "text/plain": [
       "nowhp (generic function with 1 method)"
      ]
     },
     "execution_count": 3,
     "metadata": {},
     "output_type": "execute_result"
    }
   ],
   "source": [
    "function nowhp(chara::ark.character,enemy::ark.character,time::Union{Int64,Float64})\n",
    "    damage = enemy.ismagic ? enemy.atk*(1-chara.res/100) : enemy.atk-chara.def\n",
    "    return max(0,chara.hp-damage*fld(time,enemy.aps))\n",
    "end"
   ]
  },
  {
   "cell_type": "code",
   "execution_count": 4,
   "metadata": {
    "ExecuteTime": {
     "end_time": "2020-08-18T18:12:05.745000+09:00",
     "start_time": "2020-08-18T09:12:05.651Z"
    }
   },
   "outputs": [
    {
     "data": {
      "text/plain": [
       "battletime (generic function with 1 method)"
      ]
     },
     "execution_count": 4,
     "metadata": {},
     "output_type": "execute_result"
    }
   ],
   "source": [
    "function battletime(a,b)\n",
    "    now=0.0\n",
    "    while min(nowhp(a,b,now),nowhp(b,a,now))!=0\n",
    "        now+=0.1\n",
    "    end\n",
    "    return cld(now,0.1)/10\n",
    "end"
   ]
  },
  {
   "cell_type": "code",
   "execution_count": 5,
   "metadata": {
    "ExecuteTime": {
     "end_time": "2020-08-18T18:12:06.471000+09:00",
     "start_time": "2020-08-18T09:12:06.399Z"
    }
   },
   "outputs": [
    {
     "data": {
      "text/plain": [
       "battle (generic function with 1 method)"
      ]
     },
     "execution_count": 5,
     "metadata": {},
     "output_type": "execute_result"
    }
   ],
   "source": [
    "function battle(a::ark.character,b::ark.character)\n",
    "    time=battletime(a,b)\n",
    "    plot(x->nowhp(a,b,x),0:0.1:time,label=a.name)\n",
    "    plot!(x->nowhp(b,a,x),0:0.1:time,label=b.name)\n",
    "end"
   ]
  },
  {
   "cell_type": "code",
   "execution_count": 6,
   "metadata": {
    "ExecuteTime": {
     "end_time": "2020-08-18T18:12:17.609000+09:00",
     "start_time": "2020-08-18T09:12:07.260Z"
    }
   },
   "outputs": [
    {
     "data": {
      "image/svg+xml": [
       "<?xml version=\"1.0\" encoding=\"utf-8\"?>\n",
       "<svg xmlns=\"http://www.w3.org/2000/svg\" xmlns:xlink=\"http://www.w3.org/1999/xlink\" width=\"600\" height=\"400\" viewBox=\"0 0 2400 1600\">\n",
       "<defs>\n",
       "  <clipPath id=\"clip6200\">\n",
       "    <rect x=\"0\" y=\"0\" width=\"2400\" height=\"1600\"/>\n",
       "  </clipPath>\n",
       "</defs>\n",
       "<path clip-path=\"url(#clip6200)\" d=\"\n",
       "M0 1600 L2400 1600 L2400 0 L0 0  Z\n",
       "  \" fill=\"#ffffff\" fill-rule=\"evenodd\" fill-opacity=\"1\"/>\n",
       "<defs>\n",
       "  <clipPath id=\"clip6201\">\n",
       "    <rect x=\"480\" y=\"0\" width=\"1681\" height=\"1600\"/>\n",
       "  </clipPath>\n",
       "</defs>\n",
       "<path clip-path=\"url(#clip6200)\" d=\"\n",
       "M194.041 1487.47 L2352.76 1487.47 L2352.76 47.2441 L194.041 47.2441  Z\n",
       "  \" fill=\"#ffffff\" fill-rule=\"evenodd\" fill-opacity=\"1\"/>\n",
       "<defs>\n",
       "  <clipPath id=\"clip6202\">\n",
       "    <rect x=\"194\" y=\"47\" width=\"2160\" height=\"1441\"/>\n",
       "  </clipPath>\n",
       "</defs>\n",
       "<polyline clip-path=\"url(#clip6202)\" style=\"stroke:#000000; stroke-width:2; stroke-opacity:0.1; fill:none\" points=\"\n",
       "  255.137,1487.47 255.137,47.2441 \n",
       "  \"/>\n",
       "<polyline clip-path=\"url(#clip6202)\" style=\"stroke:#000000; stroke-width:2; stroke-opacity:0.1; fill:none\" points=\"\n",
       "  588.993,1487.47 588.993,47.2441 \n",
       "  \"/>\n",
       "<polyline clip-path=\"url(#clip6202)\" style=\"stroke:#000000; stroke-width:2; stroke-opacity:0.1; fill:none\" points=\"\n",
       "  922.85,1487.47 922.85,47.2441 \n",
       "  \"/>\n",
       "<polyline clip-path=\"url(#clip6202)\" style=\"stroke:#000000; stroke-width:2; stroke-opacity:0.1; fill:none\" points=\"\n",
       "  1256.71,1487.47 1256.71,47.2441 \n",
       "  \"/>\n",
       "<polyline clip-path=\"url(#clip6202)\" style=\"stroke:#000000; stroke-width:2; stroke-opacity:0.1; fill:none\" points=\"\n",
       "  1590.56,1487.47 1590.56,47.2441 \n",
       "  \"/>\n",
       "<polyline clip-path=\"url(#clip6202)\" style=\"stroke:#000000; stroke-width:2; stroke-opacity:0.1; fill:none\" points=\"\n",
       "  1924.42,1487.47 1924.42,47.2441 \n",
       "  \"/>\n",
       "<polyline clip-path=\"url(#clip6202)\" style=\"stroke:#000000; stroke-width:2; stroke-opacity:0.1; fill:none\" points=\"\n",
       "  2258.27,1487.47 2258.27,47.2441 \n",
       "  \"/>\n",
       "<polyline clip-path=\"url(#clip6202)\" style=\"stroke:#000000; stroke-width:2; stroke-opacity:0.1; fill:none\" points=\"\n",
       "  194.041,1446.71 2352.76,1446.71 \n",
       "  \"/>\n",
       "<polyline clip-path=\"url(#clip6202)\" style=\"stroke:#000000; stroke-width:2; stroke-opacity:0.1; fill:none\" points=\"\n",
       "  194.041,1075.99 2352.76,1075.99 \n",
       "  \"/>\n",
       "<polyline clip-path=\"url(#clip6202)\" style=\"stroke:#000000; stroke-width:2; stroke-opacity:0.1; fill:none\" points=\"\n",
       "  194.041,705.263 2352.76,705.263 \n",
       "  \"/>\n",
       "<polyline clip-path=\"url(#clip6202)\" style=\"stroke:#000000; stroke-width:2; stroke-opacity:0.1; fill:none\" points=\"\n",
       "  194.041,334.538 2352.76,334.538 \n",
       "  \"/>\n",
       "<polyline clip-path=\"url(#clip6200)\" style=\"stroke:#000000; stroke-width:4; stroke-opacity:1; fill:none\" points=\"\n",
       "  194.041,1487.47 2352.76,1487.47 \n",
       "  \"/>\n",
       "<polyline clip-path=\"url(#clip6200)\" style=\"stroke:#000000; stroke-width:4; stroke-opacity:1; fill:none\" points=\"\n",
       "  194.041,1487.47 194.041,47.2441 \n",
       "  \"/>\n",
       "<polyline clip-path=\"url(#clip6200)\" style=\"stroke:#000000; stroke-width:4; stroke-opacity:1; fill:none\" points=\"\n",
       "  255.137,1487.47 255.137,1470.19 \n",
       "  \"/>\n",
       "<polyline clip-path=\"url(#clip6200)\" style=\"stroke:#000000; stroke-width:4; stroke-opacity:1; fill:none\" points=\"\n",
       "  588.993,1487.47 588.993,1470.19 \n",
       "  \"/>\n",
       "<polyline clip-path=\"url(#clip6200)\" style=\"stroke:#000000; stroke-width:4; stroke-opacity:1; fill:none\" points=\"\n",
       "  922.85,1487.47 922.85,1470.19 \n",
       "  \"/>\n",
       "<polyline clip-path=\"url(#clip6200)\" style=\"stroke:#000000; stroke-width:4; stroke-opacity:1; fill:none\" points=\"\n",
       "  1256.71,1487.47 1256.71,1470.19 \n",
       "  \"/>\n",
       "<polyline clip-path=\"url(#clip6200)\" style=\"stroke:#000000; stroke-width:4; stroke-opacity:1; fill:none\" points=\"\n",
       "  1590.56,1487.47 1590.56,1470.19 \n",
       "  \"/>\n",
       "<polyline clip-path=\"url(#clip6200)\" style=\"stroke:#000000; stroke-width:4; stroke-opacity:1; fill:none\" points=\"\n",
       "  1924.42,1487.47 1924.42,1470.19 \n",
       "  \"/>\n",
       "<polyline clip-path=\"url(#clip6200)\" style=\"stroke:#000000; stroke-width:4; stroke-opacity:1; fill:none\" points=\"\n",
       "  2258.27,1487.47 2258.27,1470.19 \n",
       "  \"/>\n",
       "<polyline clip-path=\"url(#clip6200)\" style=\"stroke:#000000; stroke-width:4; stroke-opacity:1; fill:none\" points=\"\n",
       "  194.041,1446.71 219.946,1446.71 \n",
       "  \"/>\n",
       "<polyline clip-path=\"url(#clip6200)\" style=\"stroke:#000000; stroke-width:4; stroke-opacity:1; fill:none\" points=\"\n",
       "  194.041,1075.99 219.946,1075.99 \n",
       "  \"/>\n",
       "<polyline clip-path=\"url(#clip6200)\" style=\"stroke:#000000; stroke-width:4; stroke-opacity:1; fill:none\" points=\"\n",
       "  194.041,705.263 219.946,705.263 \n",
       "  \"/>\n",
       "<polyline clip-path=\"url(#clip6200)\" style=\"stroke:#000000; stroke-width:4; stroke-opacity:1; fill:none\" points=\"\n",
       "  194.041,334.538 219.946,334.538 \n",
       "  \"/>\n",
       "<g clip-path=\"url(#clip6200)\">\n",
       "<text style=\"fill:#000000; fill-opacity:1; font-family:Arial,Helvetica Neue,Helvetica,sans-serif; font-size:48px; text-anchor:middle;\" transform=\"rotate(0, 255.137, 1541.47)\" x=\"255.137\" y=\"1541.47\">0</text>\n",
       "</g>\n",
       "<g clip-path=\"url(#clip6200)\">\n",
       "<text style=\"fill:#000000; fill-opacity:1; font-family:Arial,Helvetica Neue,Helvetica,sans-serif; font-size:48px; text-anchor:middle;\" transform=\"rotate(0, 588.993, 1541.47)\" x=\"588.993\" y=\"1541.47\">1</text>\n",
       "</g>\n",
       "<g clip-path=\"url(#clip6200)\">\n",
       "<text style=\"fill:#000000; fill-opacity:1; font-family:Arial,Helvetica Neue,Helvetica,sans-serif; font-size:48px; text-anchor:middle;\" transform=\"rotate(0, 922.85, 1541.47)\" x=\"922.85\" y=\"1541.47\">2</text>\n",
       "</g>\n",
       "<g clip-path=\"url(#clip6200)\">\n",
       "<text style=\"fill:#000000; fill-opacity:1; font-family:Arial,Helvetica Neue,Helvetica,sans-serif; font-size:48px; text-anchor:middle;\" transform=\"rotate(0, 1256.71, 1541.47)\" x=\"1256.71\" y=\"1541.47\">3</text>\n",
       "</g>\n",
       "<g clip-path=\"url(#clip6200)\">\n",
       "<text style=\"fill:#000000; fill-opacity:1; font-family:Arial,Helvetica Neue,Helvetica,sans-serif; font-size:48px; text-anchor:middle;\" transform=\"rotate(0, 1590.56, 1541.47)\" x=\"1590.56\" y=\"1541.47\">4</text>\n",
       "</g>\n",
       "<g clip-path=\"url(#clip6200)\">\n",
       "<text style=\"fill:#000000; fill-opacity:1; font-family:Arial,Helvetica Neue,Helvetica,sans-serif; font-size:48px; text-anchor:middle;\" transform=\"rotate(0, 1924.42, 1541.47)\" x=\"1924.42\" y=\"1541.47\">5</text>\n",
       "</g>\n",
       "<g clip-path=\"url(#clip6200)\">\n",
       "<text style=\"fill:#000000; fill-opacity:1; font-family:Arial,Helvetica Neue,Helvetica,sans-serif; font-size:48px; text-anchor:middle;\" transform=\"rotate(0, 2258.27, 1541.47)\" x=\"2258.27\" y=\"1541.47\">6</text>\n",
       "</g>\n",
       "<g clip-path=\"url(#clip6200)\">\n",
       "<text style=\"fill:#000000; fill-opacity:1; font-family:Arial,Helvetica Neue,Helvetica,sans-serif; font-size:48px; text-anchor:end;\" transform=\"rotate(0, 170.041, 1464.21)\" x=\"170.041\" y=\"1464.21\">0</text>\n",
       "</g>\n",
       "<g clip-path=\"url(#clip6200)\">\n",
       "<text style=\"fill:#000000; fill-opacity:1; font-family:Arial,Helvetica Neue,Helvetica,sans-serif; font-size:48px; text-anchor:end;\" transform=\"rotate(0, 170.041, 1093.49)\" x=\"170.041\" y=\"1093.49\">1000</text>\n",
       "</g>\n",
       "<g clip-path=\"url(#clip6200)\">\n",
       "<text style=\"fill:#000000; fill-opacity:1; font-family:Arial,Helvetica Neue,Helvetica,sans-serif; font-size:48px; text-anchor:end;\" transform=\"rotate(0, 170.041, 722.763)\" x=\"170.041\" y=\"722.763\">2000</text>\n",
       "</g>\n",
       "<g clip-path=\"url(#clip6200)\">\n",
       "<text style=\"fill:#000000; fill-opacity:1; font-family:Arial,Helvetica Neue,Helvetica,sans-serif; font-size:48px; text-anchor:end;\" transform=\"rotate(0, 170.041, 352.038)\" x=\"170.041\" y=\"352.038\">3000</text>\n",
       "</g>\n",
       "<polyline clip-path=\"url(#clip6202)\" style=\"stroke:#009af9; stroke-width:4; stroke-opacity:1; fill:none\" points=\"\n",
       "  255.137,88.0053 288.523,88.0053 321.908,88.0053 355.294,88.0053 388.68,88.0053 422.065,88.0053 455.451,88.0053 488.837,88.0053 522.222,178.833 555.608,178.833 \n",
       "  588.993,178.833 622.379,178.833 655.765,178.833 689.15,178.833 722.536,178.833 755.922,178.833 789.307,269.661 822.693,269.661 856.078,269.661 889.464,269.661 \n",
       "  922.85,269.661 956.235,269.661 989.621,269.661 1023.01,269.661 1056.39,360.488 1089.78,360.488 1123.16,360.488 1156.55,360.488 1189.93,360.488 1223.32,360.488 \n",
       "  1256.71,360.488 1290.09,360.488 1323.48,451.316 1356.86,451.316 1390.25,451.316 1423.63,451.316 1457.02,451.316 1490.41,451.316 1523.79,451.316 1557.18,451.316 \n",
       "  1590.56,542.144 1623.95,542.144 1657.33,542.144 1690.72,542.144 1724.1,542.144 1757.49,542.144 1790.88,542.144 1824.26,632.971 1857.65,632.971 1891.03,632.971 \n",
       "  1924.42,632.971 1957.8,632.971 1991.19,632.971 2024.58,632.971 2057.96,632.971 2091.35,723.799 2124.73,723.799 2158.12,723.799 2191.5,723.799 2224.89,723.799 \n",
       "  2258.27,723.799 2291.66,723.799 \n",
       "  \"/>\n",
       "<polyline clip-path=\"url(#clip6202)\" style=\"stroke:#e26f46; stroke-width:4; stroke-opacity:1; fill:none\" points=\"\n",
       "  255.137,655.215 288.523,655.215 321.908,655.215 355.294,655.215 388.68,655.215 422.065,655.215 455.451,655.215 488.837,655.215 522.222,655.215 555.608,655.215 \n",
       "  588.993,655.215 622.379,655.215 655.765,655.215 689.15,655.215 722.536,655.215 755.922,915.093 789.307,915.093 822.693,915.093 856.078,915.093 889.464,915.093 \n",
       "  922.85,915.093 956.235,915.093 989.621,915.093 1023.01,915.093 1056.39,915.093 1089.78,915.093 1123.16,915.093 1156.55,915.093 1189.93,915.093 1223.32,915.093 \n",
       "  1256.71,1174.97 1290.09,1174.97 1323.48,1174.97 1356.86,1174.97 1390.25,1174.97 1423.63,1174.97 1457.02,1174.97 1490.41,1174.97 1523.79,1174.97 1557.18,1174.97 \n",
       "  1590.56,1174.97 1623.95,1174.97 1657.33,1174.97 1690.72,1174.97 1724.1,1174.97 1757.49,1434.85 1790.88,1434.85 1824.26,1434.85 1857.65,1434.85 1891.03,1434.85 \n",
       "  1924.42,1434.85 1957.8,1434.85 1991.19,1434.85 2024.58,1434.85 2057.96,1434.85 2091.35,1434.85 2124.73,1434.85 2158.12,1434.85 2191.5,1434.85 2224.89,1434.85 \n",
       "  2258.27,1446.71 2291.66,1446.71 \n",
       "  \"/>\n",
       "<path clip-path=\"url(#clip6200)\" d=\"\n",
       "M1824.01 312.204 L2280.76 312.204 L2280.76 130.764 L1824.01 130.764  Z\n",
       "  \" fill=\"#ffffff\" fill-rule=\"evenodd\" fill-opacity=\"1\"/>\n",
       "<polyline clip-path=\"url(#clip6200)\" style=\"stroke:#000000; stroke-width:4; stroke-opacity:1; fill:none\" points=\"\n",
       "  1824.01,312.204 2280.76,312.204 2280.76,130.764 1824.01,130.764 1824.01,312.204 \n",
       "  \"/>\n",
       "<polyline clip-path=\"url(#clip6200)\" style=\"stroke:#009af9; stroke-width:4; stroke-opacity:1; fill:none\" points=\"\n",
       "  1848.01,191.244 1992.01,191.244 \n",
       "  \"/>\n",
       "<g clip-path=\"url(#clip6200)\">\n",
       "<text style=\"fill:#000000; fill-opacity:1; font-family:Arial,Helvetica Neue,Helvetica,sans-serif; font-size:48px; text-anchor:start;\" transform=\"rotate(0, 2016.01, 208.744)\" x=\"2016.01\" y=\"208.744\">skadi</text>\n",
       "</g>\n",
       "<polyline clip-path=\"url(#clip6200)\" style=\"stroke:#e26f46; stroke-width:4; stroke-opacity:1; fill:none\" points=\"\n",
       "  1848.01,251.724 1992.01,251.724 \n",
       "  \"/>\n",
       "<g clip-path=\"url(#clip6200)\">\n",
       "<text style=\"fill:#000000; fill-opacity:1; font-family:Arial,Helvetica Neue,Helvetica,sans-serif; font-size:48px; text-anchor:start;\" transform=\"rotate(0, 2016.01, 269.224)\" x=\"2016.01\" y=\"269.224\">beehunter</text>\n",
       "</g>\n",
       "</svg>\n"
      ]
     },
     "execution_count": 6,
     "metadata": {},
     "output_type": "execute_result"
    }
   ],
   "source": [
    "battle(skadi,beehunter)"
   ]
  },
  {
   "cell_type": "code",
   "execution_count": 7,
   "metadata": {
    "ExecuteTime": {
     "end_time": "2020-08-18T18:22:52.203000+09:00",
     "start_time": "2020-08-18T09:22:52.113Z"
    }
   },
   "outputs": [
    {
     "data": {
      "text/plain": [
       "win (generic function with 1 method)"
      ]
     },
     "execution_count": 7,
     "metadata": {},
     "output_type": "execute_result"
    }
   ],
   "source": [
    "function win(a::ark.character,b::ark.character)\n",
    "    time=battletime(a,b)\n",
    "    ahp=nowhp(a,b,time)\n",
    "    bhp=nowhp(b,a,time)\n",
    "    if ahp==bhp==0\n",
    "        println(\"even\")\n",
    "    elseif ahp==0\n",
    "        println(\"lose\")\n",
    "    else\n",
    "        println(\"win\")\n",
    "    end\n",
    "end"
   ]
  },
  {
   "cell_type": "code",
   "execution_count": 8,
   "metadata": {
    "ExecuteTime": {
     "end_time": "2020-08-18T18:23:03.503000+09:00",
     "start_time": "2020-08-18T09:23:03.471Z"
    }
   },
   "outputs": [
    {
     "name": "stdout",
     "output_type": "stream",
     "text": [
      "win\n"
     ]
    }
   ],
   "source": [
    "win(skadi,beehunter)"
   ]
  },
  {
   "cell_type": "code",
   "execution_count": 9,
   "metadata": {
    "ExecuteTime": {
     "end_time": "2020-08-18T18:23:14.704000+09:00",
     "start_time": "2020-08-18T09:23:14.703Z"
    }
   },
   "outputs": [
    {
     "name": "stdout",
     "output_type": "stream",
     "text": [
      "lose\n"
     ]
    }
   ],
   "source": [
    "win(beehunter,skadi)"
   ]
  },
  {
   "cell_type": "code",
   "execution_count": null,
   "metadata": {},
   "outputs": [],
   "source": []
  }
 ],
 "metadata": {
  "hide_input": false,
  "kernelspec": {
   "display_name": "Julia 1.4.1",
   "language": "julia",
   "name": "julia-1.4"
  },
  "language_info": {
   "file_extension": ".jl",
   "mimetype": "application/julia",
   "name": "julia",
   "version": "1.4.1"
  },
  "nbTranslate": {
   "displayLangs": [
    "*"
   ],
   "hotkey": "alt-t",
   "langInMainMenu": true,
   "sourceLang": "en",
   "targetLang": "fr",
   "useGoogleTranslate": true
  },
  "toc": {
   "base_numbering": 1,
   "nav_menu": {},
   "number_sections": true,
   "sideBar": true,
   "skip_h1_title": false,
   "title_cell": "Table of Contents",
   "title_sidebar": "Contents",
   "toc_cell": false,
   "toc_position": {},
   "toc_section_display": true,
   "toc_window_display": false
  },
  "varInspector": {
   "cols": {
    "lenName": 16,
    "lenType": 16,
    "lenVar": 40
   },
   "kernels_config": {
    "python": {
     "delete_cmd_postfix": "",
     "delete_cmd_prefix": "del ",
     "library": "var_list.py",
     "varRefreshCmd": "print(var_dic_list())"
    },
    "r": {
     "delete_cmd_postfix": ") ",
     "delete_cmd_prefix": "rm(",
     "library": "var_list.r",
     "varRefreshCmd": "cat(var_dic_list()) "
    }
   },
   "types_to_exclude": [
    "module",
    "function",
    "builtin_function_or_method",
    "instance",
    "_Feature"
   ],
   "window_display": false
  }
 },
 "nbformat": 4,
 "nbformat_minor": 4
}
