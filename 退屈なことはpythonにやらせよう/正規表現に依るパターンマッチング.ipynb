{
 "cells": [
  {
   "cell_type": "markdown",
   "metadata": {
    "ExecuteTime": {
     "end_time": "2020-06-07T07:41:50.979064Z",
     "start_time": "2020-06-07T07:41:50.975071Z"
    }
   },
   "source": [
    "# 準備"
   ]
  },
  {
   "cell_type": "code",
   "execution_count": 16,
   "metadata": {
    "ExecuteTime": {
     "end_time": "2020-06-07T07:46:52.600656Z",
     "start_time": "2020-06-07T07:46:52.591771Z"
    }
   },
   "outputs": [],
   "source": [
    "message='明日415-555-1111に電話してください、オフィスは415-555-9999です'\n",
    "import re"
   ]
  },
  {
   "cell_type": "markdown",
   "metadata": {},
   "source": [
    "# マッチする最初の要素を検索"
   ]
  },
  {
   "cell_type": "code",
   "execution_count": 15,
   "metadata": {
    "ExecuteTime": {
     "end_time": "2020-06-07T07:46:50.077960Z",
     "start_time": "2020-06-07T07:46:50.073999Z"
    }
   },
   "outputs": [
    {
     "name": "stdout",
     "output_type": "stream",
     "text": [
      "電話番号：415-555-1111\n"
     ]
    }
   ],
   "source": [
    "phone_num_regex=re.compile(r'\\d\\d\\d-\\d\\d\\d-\\d\\d\\d\\d')\n",
    "print(\"電話番号：\"+phone_num_regex.search(message).group())"
   ]
  },
  {
   "cell_type": "markdown",
   "metadata": {
    "ExecuteTime": {
     "end_time": "2020-06-07T07:47:08.353129Z",
     "start_time": "2020-06-07T07:47:08.349125Z"
    }
   },
   "source": [
    "# マッチするすべての要素を検索"
   ]
  },
  {
   "cell_type": "code",
   "execution_count": 18,
   "metadata": {
    "ExecuteTime": {
     "end_time": "2020-06-07T07:47:20.288146Z",
     "start_time": "2020-06-07T07:47:20.284144Z"
    }
   },
   "outputs": [
    {
     "name": "stdout",
     "output_type": "stream",
     "text": [
      "電話番号：415-555-1111\n",
      "電話番号：415-555-9999\n"
     ]
    }
   ],
   "source": [
    "for i in phone_num_regex.findall(message):\n",
    "    print(\"電話番号：\"+i)"
   ]
  },
  {
   "cell_type": "markdown",
   "metadata": {
    "ExecuteTime": {
     "end_time": "2020-06-07T07:48:05.078803Z",
     "start_time": "2020-06-07T07:48:05.074713Z"
    }
   },
   "source": [
    "# マッチする要素の中からｎ番目のグループを選ぶ"
   ]
  },
  {
   "cell_type": "code",
   "execution_count": 20,
   "metadata": {
    "ExecuteTime": {
     "end_time": "2020-06-07T07:48:11.219441Z",
     "start_time": "2020-06-07T07:48:11.211452Z"
    }
   },
   "outputs": [
    {
     "name": "stdout",
     "output_type": "stream",
     "text": [
      "415\n",
      "555\n",
      "1111\n"
     ]
    }
   ],
   "source": [
    "phone_num_regex=re.compile(r\"(\\d\\d\\d)-(\\d\\d\\d)-(\\d\\d\\d\\d)\")\n",
    "mo=phone_num_regex.search(message)\n",
    "for i in range(1,4):\n",
    "    print(mo.group(i))"
   ]
  },
  {
   "cell_type": "markdown",
   "metadata": {
    "ExecuteTime": {
     "end_time": "2020-06-07T07:48:53.497333Z",
     "start_time": "2020-06-07T07:48:53.486264Z"
    }
   },
   "source": [
    "# 全ての要素をタプルで取得"
   ]
  },
  {
   "cell_type": "code",
   "execution_count": 22,
   "metadata": {
    "ExecuteTime": {
     "end_time": "2020-06-07T07:48:59.895719Z",
     "start_time": "2020-06-07T07:48:59.885379Z"
    }
   },
   "outputs": [
    {
     "name": "stdout",
     "output_type": "stream",
     "text": [
      "('415', '555', '1111')\n"
     ]
    }
   ],
   "source": [
    "print(mo.groups())"
   ]
  },
  {
   "cell_type": "markdown",
   "metadata": {
    "ExecuteTime": {
     "end_time": "2020-06-07T08:31:52.711455Z",
     "start_time": "2020-06-07T08:31:52.707451Z"
    }
   },
   "source": [
    "# 複数のグループとマッチする"
   ]
  },
  {
   "cell_type": "code",
   "execution_count": 26,
   "metadata": {
    "ExecuteTime": {
     "end_time": "2020-06-07T08:35:51.950640Z",
     "start_time": "2020-06-07T08:35:51.946694Z"
    }
   },
   "outputs": [
    {
     "name": "stdout",
     "output_type": "stream",
     "text": [
      "['man', 'mobile']\n"
     ]
    }
   ],
   "source": [
    "hero_regex=re.compile(r'Bat(man|mobile)')\n",
    "mo=hero_regex.findall('Batman and tina fey and Batmobile')\n",
    "print(mo)"
   ]
  },
  {
   "cell_type": "code",
   "execution_count": null,
   "metadata": {},
   "outputs": [],
   "source": []
  },
  {
   "cell_type": "code",
   "execution_count": null,
   "metadata": {},
   "outputs": [],
   "source": []
  },
  {
   "cell_type": "code",
   "execution_count": null,
   "metadata": {},
   "outputs": [],
   "source": []
  }
 ],
 "metadata": {
  "hide_input": false,
  "kernelspec": {
   "display_name": "Python 3.7.6 64-bit (conda)",
   "language": "python",
   "name": "python37664bitcondae73e004b85e545088b6ed445beaead78"
  },
  "language_info": {
   "codemirror_mode": {
    "name": "ipython",
    "version": 3
   },
   "file_extension": ".py",
   "mimetype": "text/x-python",
   "name": "python",
   "nbconvert_exporter": "python",
   "pygments_lexer": "ipython3",
   "version": "3.7.6"
  },
  "nbTranslate": {
   "displayLangs": [
    "*"
   ],
   "hotkey": "alt-t",
   "langInMainMenu": true,
   "sourceLang": "en",
   "targetLang": "fr",
   "useGoogleTranslate": true
  },
  "toc": {
   "base_numbering": 1,
   "nav_menu": {},
   "number_sections": true,
   "sideBar": true,
   "skip_h1_title": false,
   "title_cell": "Table of Contents",
   "title_sidebar": "Contents",
   "toc_cell": false,
   "toc_position": {},
   "toc_section_display": true,
   "toc_window_display": false
  },
  "varInspector": {
   "cols": {
    "lenName": 16,
    "lenType": 16,
    "lenVar": 40
   },
   "kernels_config": {
    "python": {
     "delete_cmd_postfix": "",
     "delete_cmd_prefix": "del ",
     "library": "var_list.py",
     "varRefreshCmd": "print(var_dic_list())"
    },
    "r": {
     "delete_cmd_postfix": ") ",
     "delete_cmd_prefix": "rm(",
     "library": "var_list.r",
     "varRefreshCmd": "cat(var_dic_list()) "
    }
   },
   "types_to_exclude": [
    "module",
    "function",
    "builtin_function_or_method",
    "instance",
    "_Feature"
   ],
   "window_display": false
  }
 },
 "nbformat": 4,
 "nbformat_minor": 4
}
