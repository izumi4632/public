{
 "cells": [
  {
   "cell_type": "markdown",
   "metadata": {
    "ExecuteTime": {
     "end_time": "2020-10-05T16:02:42.117000+09:00",
     "start_time": "2020-10-05T07:02:41.537Z"
    },
    "cell_style": "center"
   },
   "source": [
    "## １章"
   ]
  },
  {
   "cell_type": "markdown",
   "metadata": {
    "ExecuteTime": {
     "end_time": "2020-10-05T16:04:06.622000+09:00",
     "start_time": "2020-10-05T07:04:06.621Z"
    }
   },
   "source": [
    "## 1.1"
   ]
  },
  {
   "cell_type": "code",
   "execution_count": 15,
   "metadata": {
    "ExecuteTime": {
     "end_time": "2020-10-05T16:38:13.578000+09:00",
     "start_time": "2020-10-05T07:38:12.782Z"
    },
    "cell_style": "center"
   },
   "outputs": [
    {
     "output_type": "execute_result",
     "data": {
      "text/plain": "nibutan (generic function with 2 methods)"
     },
     "metadata": {},
     "execution_count": 15
    }
   ],
   "source": [
    "function nibutan(i,isok,ng,ok)\n",
    "println(\"caseof $i\")\n",
    "  while abs(ng - ok) > 1\n",
    "    @show mid = (ng + ok) ÷ 2\n",
    "    isok(mid) ? ok = mid : ng = mid end\n",
    "  return ok\n",
    "end"
   ]
  },
  {
   "cell_type": "code",
   "execution_count": 19,
   "metadata": {
    "tags": []
   },
   "outputs": [
    {
     "output_type": "stream",
     "name": "stdout",
     "text": "caseof 20\nmid = (ng + ok) ÷ 2 = 28\nmid = (ng + ok) ÷ 2 = 24\nmid = (ng + ok) ÷ 2 = 22\nmid = (ng + ok) ÷ 2 = 21\nans=20\n\ncaseof 21\nmid = (ng + ok) ÷ 2 = 28\nmid = (ng + ok) ÷ 2 = 24\nmid = (ng + ok) ÷ 2 = 22\nmid = (ng + ok) ÷ 2 = 21\nans=21\n\ncaseof 22\nmid = (ng + ok) ÷ 2 = 28\nmid = (ng + ok) ÷ 2 = 24\nmid = (ng + ok) ÷ 2 = 22\nmid = (ng + ok) ÷ 2 = 23\nans=22\n\ncaseof 23\nmid = (ng + ok) ÷ 2 = 28\nmid = (ng + ok) ÷ 2 = 24\nmid = (ng + ok) ÷ 2 = 22\nmid = (ng + ok) ÷ 2 = 23\nans=23\n\ncaseof 24\nmid = (ng + ok) ÷ 2 = 28\nmid = (ng + ok) ÷ 2 = 24\nmid = (ng + ok) ÷ 2 = 26\nmid = (ng + ok) ÷ 2 = 25\nans=24\n\ncaseof 25\nmid = (ng + ok) ÷ 2 = 28\nmid = (ng + ok) ÷ 2 = 24\nmid = (ng + ok) ÷ 2 = 26\nmid = (ng + ok) ÷ 2 = 25\nans=25\n\ncaseof 26\nmid = (ng + ok) ÷ 2 = 28\nmid = (ng + ok) ÷ 2 = 24\nmid = (ng + ok) ÷ 2 = 26\nmid = (ng + ok) ÷ 2 = 27\nans=26\n\ncaseof 27\nmid = (ng + ok) ÷ 2 = 28\nmid = (ng + ok) ÷ 2 = 24\nmid = (ng + ok) ÷ 2 = 26\nmid = (ng + ok) ÷ 2 = 27\nans=27\n\ncaseof 28\nmid = (ng + ok) ÷ 2 = 28\nmid = (ng + ok) ÷ 2 = 32\nmid = (ng + ok) ÷ 2 = 30\nmid = (ng + ok) ÷ 2 = 29\nans=28\n\ncaseof 29\nmid = (ng + ok) ÷ 2 = 28\nmid = (ng + ok) ÷ 2 = 32\nmid = (ng + ok) ÷ 2 = 30\nmid = (ng + ok) ÷ 2 = 29\nans=29\n\ncaseof 30\nmid = (ng + ok) ÷ 2 = 28\nmid = (ng + ok) ÷ 2 = 32\nmid = (ng + ok) ÷ 2 = 30\nmid = (ng + ok) ÷ 2 = 31\nans=30\n\ncaseof 31\nmid = (ng + ok) ÷ 2 = 28\nmid = (ng + ok) ÷ 2 = 32\nmid = (ng + ok) ÷ 2 = 30\nmid = (ng + ok) ÷ 2 = 31\nans=31\n\ncaseof 32\nmid = (ng + ok) ÷ 2 = 28\nmid = (ng + ok) ÷ 2 = 32\nmid = (ng + ok) ÷ 2 = 34\nmid = (ng + ok) ÷ 2 = 33\nans=32\n\ncaseof 33\nmid = (ng + ok) ÷ 2 = 28\nmid = (ng + ok) ÷ 2 = 32\nmid = (ng + ok) ÷ 2 = 34\nmid = (ng + ok) ÷ 2 = 33\nans=33\n\ncaseof 34\nmid = (ng + ok) ÷ 2 = 28\nmid = (ng + ok) ÷ 2 = 32\nmid = (ng + ok) ÷ 2 = 34\nmid = (ng + ok) ÷ 2 = 35\nans=34\n\ncaseof 35\nmid = (ng + ok) ÷ 2 = 28\nmid = (ng + ok) ÷ 2 = 32\nmid = (ng + ok) ÷ 2 = 34\nmid = (ng + ok) ÷ 2 = 35\nans=35\n\n"
    }
   ],
   "source": [
    "for i=20:35\n",
    "  println(\"ans=\",nibutan(i,x->x<=i,36,20),\"\\n\")\n",
    "end"
   ]
  },
  {
   "source": [
    "## 1.2"
   ],
   "cell_type": "markdown",
   "metadata": {}
  },
  {
   "source": [
    "区間[left,left+N)において、選択肢の数はN個  \n",
    "一回の質問ごとに選択肢は半減するのでceil(log2(N))回で正解が求まる  \n",
    "N=100のとき、log2(100)=6.643856189774724より  \n",
    "6回では求まらず、7回で求まる。"
   ],
   "cell_type": "markdown",
   "metadata": {}
  },
  {
   "source": [
    "## 1.3"
   ],
   "cell_type": "markdown",
   "metadata": {}
  },
  {
   "cell_type": "code",
   "execution_count": 48,
   "metadata": {},
   "outputs": [
    {
     "output_type": "execute_result",
     "data": {
      "text/plain": "musikui1 (generic function with 2 methods)"
     },
     "metadata": {},
     "execution_count": 48
    }
   ],
   "source": [
    "function musikui1(a,b,len)\n",
    "  A=20+a[2]\n",
    "  B=10b[1]+b[2]\n",
    "  line=string.(A.*[b[2],b[1],B])\n",
    "  lencheck=all(length.(line).==len)\n",
    "  isok=lencheck && line[1][2]=='3' && line[3][2]=='4'\n",
    "  if isok return join([string(A),string(B),line[1],line[2],line[3]],\"\\n\") \n",
    "  elseif b[2]!=9 return musikui1(a,b+[0,1],len)\n",
    "  elseif b[1]!=9 return musikui1(a,[b[1]+1,0],len)\n",
    "  else return musikui1(a+[0,1],[0,0],len) end end"
   ]
  },
  {
   "cell_type": "code",
   "execution_count": 49,
   "metadata": {
    "tags": []
   },
   "outputs": [
    {
     "output_type": "stream",
     "name": "stdout",
     "text": "27\n35\n135\n81\n945\n"
    }
   ],
   "source": [
    "println(musikui1([0,0],[1,0],[3,2,3]))"
   ]
  },
  {
   "cell_type": "code",
   "execution_count": null,
   "metadata": {},
   "outputs": [],
   "source": []
  },
  {
   "cell_type": "code",
   "execution_count": 47,
   "metadata": {},
   "outputs": [
    {
     "output_type": "execute_result",
     "data": {
      "text/plain": "2-element Vector{Int64}:\n   1\n 100"
     },
     "metadata": {},
     "execution_count": 47
    }
   ],
   "source": [
    "[1,0]+[0,100]"
   ]
  },
  {
   "cell_type": "code",
   "execution_count": null,
   "metadata": {},
   "outputs": [],
   "source": []
  }
 ],
 "metadata": {
  "hide_input": false,
  "kernelspec": {
   "display_name": "Julia 1.6.0-DEV",
   "language": "julia",
   "name": "julia-1.6"
  },
  "language_info": {
   "file_extension": ".jl",
   "mimetype": "application/julia",
   "name": "julia",
   "version": "3.7.5-final"
  },
  "nbTranslate": {
   "displayLangs": [
    "*"
   ],
   "hotkey": "alt-t",
   "langInMainMenu": true,
   "sourceLang": "en",
   "targetLang": "fr",
   "useGoogleTranslate": true
  },
  "toc": {
   "base_numbering": 1,
   "nav_menu": {},
   "number_sections": true,
   "sideBar": true,
   "skip_h1_title": false,
   "title_cell": "Table of Contents",
   "title_sidebar": "Contents",
   "toc_cell": false,
   "toc_position": {},
   "toc_section_display": true,
   "toc_window_display": false
  },
  "varInspector": {
   "cols": {
    "lenName": 16,
    "lenType": 16,
    "lenVar": 40
   },
   "kernels_config": {
    "python": {
     "delete_cmd_postfix": "",
     "delete_cmd_prefix": "del ",
     "library": "var_list.py",
     "varRefreshCmd": "print(var_dic_list())"
    },
    "r": {
     "delete_cmd_postfix": ") ",
     "delete_cmd_prefix": "rm(",
     "library": "var_list.r",
     "varRefreshCmd": "cat(var_dic_list()) "
    }
   },
   "types_to_exclude": [
    "module",
    "function",
    "builtin_function_or_method",
    "instance",
    "_Feature"
   ],
   "window_display": false
  }
 },
 "nbformat": 4,
 "nbformat_minor": 4
}